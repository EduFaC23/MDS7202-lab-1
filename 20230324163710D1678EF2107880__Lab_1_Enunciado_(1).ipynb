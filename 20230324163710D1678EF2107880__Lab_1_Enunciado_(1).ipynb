{
  "cells": [
    {
      "cell_type": "markdown",
      "metadata": {
        "id": "J4_IcuuKZj9Y"
      },
      "source": [
        "<h1><center>Laboratorio 1: Git 👾</center></h1>\n",
        "\n",
        "<center><strong>MDS7202: Laboratorio de Programación Científica para Ciencia de Datos - Otoño 2023</strong></center>"
      ]
    },
    {
      "cell_type": "markdown",
      "metadata": {
        "id": "AEXIACc7aADv"
      },
      "source": [
        "### Cuerpo Docente:\n",
        "\n",
        "- Profesores: Pablo Badilla, Ignacio Meza D.\n",
        "- Auxiliar: Sebastián Tinoco\n",
        "- Ayudante: Diego Cortez"
      ]
    },
    {
      "cell_type": "markdown",
      "metadata": {
        "id": "0HgMMyoCaG8X"
      },
      "source": [
        "### Equipo: SUPER IMPORTANTE - notebooks sin nombre no serán revisados\n",
        "\n",
        "- Nombre de alumno 1: Eduardo Faundez\n",
        "- Nombre de alumno 2: Álvaro Morales Salas"
      ]
    },
    {
      "cell_type": "markdown",
      "metadata": {
        "id": "fz77X6glaK6y"
      },
      "source": [
        "### **Link de repositorio de GitHub:** `...`"
      ]
    },
    {
      "cell_type": "markdown",
      "metadata": {
        "id": "rRwqaxIZaNx3"
      },
      "source": [
        "## Reglas:\n",
        "\n",
        "- Fecha de entrega: 6 días desde la publicación, 3 días de atraso con 1 punto de descuento c/u. Pueden utilizar días bonus sin descuento.\n",
        "- **Grupos de 2 personas**.\n",
        "- **Ausentes** deberán realizar la actividad solos. \n",
        "- Cualquier duda fuera del horario de clases al foro. Mensajes al equipo docente serán respondidos por este medio.\n",
        "- <u>Prohibidas las copias</u>. Cualquier intento de copia será debidamente penalizado con el reglamento de la escuela.\n",
        "- Pueden usar cualquer material del curso que estimen conveniente.\n",
        "- Asistencia obligatoria a instrucciones del lab (viernes 16.15). Luego, pueden quedarse trabajando en las salas o irse."
      ]
    },
    {
      "cell_type": "markdown",
      "metadata": {
        "id": "bmToL27JaSrf"
      },
      "source": [
        "## Objetivos del lab:\n",
        "\n",
        "\n",
        "- Conocer los elementos básicos que conformar `Git`\n",
        "- Clonar repositorios\n",
        "- Identificar ramas de un repositorio\n",
        "- Reconocer y solucionar problemas entre ramas\n",
        "- Subir cambios a un repositorio"
      ]
    },
    {
      "cell_type": "markdown",
      "metadata": {
        "id": "bvnPCvrVbJLK"
      },
      "source": [
        "## Parte 1: Conocimiento Teórico (2 pts)"
      ]
    },
    {
      "cell_type": "markdown",
      "metadata": {
        "id": "JHl-24XnbNLF"
      },
      "source": [
        "Responda las siguientes preguntas (0.2 pts c/u):\n",
        "\n",
        "1. ¿Qué es `Git` y cómo se relaciona con el control de versiones?\n",
        "\n",
        "2. Nombre y explique 3 diferencias entre `Git` y `Github`.\n",
        "\n",
        "3. ¿Qué es un `hash` y cómo se representa en un `commit`? De un ejemplo.\n",
        "\n",
        "4. ¿Que elementos componen a la estructura de datos de `Git`?\n",
        "\n",
        "5. ¿Que comandos de `Git` sirven para crear un repositorio y hacer seguimiento a cambios en los archivos?"
      ]
    },
    {
      "cell_type": "markdown",
      "metadata": {
        "id": "2tXCSkf0caG8"
      },
      "source": [
        "<code>Escriba sus respuestas acá:</code>\n",
        "\n",
        "1. `Git` es un sistema de control de versiones distribuído, que en otras palabras, implica que un clon local del proyecto también es un repositorio de control de versiones. Estos repositorios locales plenamente funcionales permiten trabajar sin conexión o de forma remota con facilidad. Los desarrolladores confirman su trabajo localmente y, a continuación, sincronizan su copia del repositorio con la copia en el servidor.\n",
        "\n",
        "2. Las diferencias entre `Git` y `GitHub` son:\n",
        "  - `Git` es un sistema de control de versiones de archivos mientras que `GitHub` es una plataforma para alojamiento de repositorios Git en la web.\n",
        "  - `Git` se ejecuta en equipos locales, por tanto la mayoria de las operaciones se pueden logran sin el uso de internet, mientras que `GitHub` es un servicio basado en la web que opera solamente en línea.\n",
        "  - `Git` es una herramienta de línea de comando, con un interfaz poco intuitiva, mientras que `GitHub` permite una interfaz gráfica.\n",
        "\n",
        "3. Un `hash` es un elemento que sirve para referenciar a un elemento de interés y está compuesto por 40 caracteres. Un ejemplo de representación de un commit es `fe4a5fc703429d830fa7f51965a2607f89f2905c`\n",
        "\n",
        "4. La estructura de datos de `Git` se compone de elementos como `Blob`, `Tree` y `Commit`.\n",
        "  - `Blob` es la unidad básica que almacena todo el contenido de un archivo.\n",
        "  - `Tree` representa un directorio para blobs u otros árboles.\n",
        "  - `Commit` almacena el hash, el autor del cambio, la fecha y el comentario.\n",
        "\n",
        "5. Para crear un repositorio es `git init` y para seguimiento de cambios es `git status`\n"
      ]
    },
    {
      "cell_type": "markdown",
      "metadata": {
        "id": "MACccbP4gU43"
      },
      "source": [
        "Responda si las siguientes afirmaciones son Verdaderas (V) o Falsas (F). Justifique en **cualquiera** de los casos (0.2 pts c/u):\n",
        "\n",
        "\n",
        "6. `Git` siempre resuelve automáticamente los problemas de lineas al hacer merge entre diferentes ramas.\n",
        "7. Ejecutar `git pull` sobre un repositorio es equivalente a ejecutar `git clone`.\n",
        "8. Cada miembro del equipo trabaja en la misma copia del código fuente usando `Git`.\n",
        "9. En `Git` es posible deshacer cambios y volver a versiones anteriores del código.\n",
        "10. El comando `git commit` se utiliza para enviar cambios al repositorio remoto."
      ]
    },
    {
      "cell_type": "markdown",
      "metadata": {
        "id": "DFnmCToOgeM3"
      },
      "source": [
        "<code>Escriba sus respuestas acá:</code>\n",
        "\n",
        "6. Falso. Existen casos donde ocurren conflictos en la unión, los cuales deben ser resueltos manualmente. Por ejemplo, cuando los commit de la rama a fusionar y la rama actual modifican la misma parte de una archivo en particular.\n",
        "\n",
        "7. Falso. `git clone` hace la copia completa de un repositorio remoto, mientras que `git pull` obtiene un control de cambios y descarga sólo elementos nuevos o modificados.\n",
        "\n",
        "8. Falso. Cada miembro trabajo en una copia independiente del código fuente.\n",
        "\n",
        "9. Verdadero. Es posible reversar cambios realizados mediante `git reset`, a cualquier versión almacenada anteriormente en el árbol.\n",
        "\n",
        "10. Falso. Los cambios se envian al repositorio remoto mediante `git push`. "
      ]
    },
    {
      "cell_type": "markdown",
      "metadata": {
        "id": "i7Em9JkbbRLo"
      },
      "source": [
        "## Parte 2: Creando una presentación personal (2 pts)"
      ]
    },
    {
      "cell_type": "markdown",
      "metadata": {
        "id": "XWIHfyrlbYOJ"
      },
      "source": [
        "Para empezar a \"*soltar las manos*\" con `Git`, se les encomienda crear un repositorio con una presentación personal. El repositorio debe contener un breve resumen de quienes son ustedes, sus gustos, experiencias, y cualquier otro detalle interesante que ustedes consideren relevante. \n",
        "\n",
        "Para realizar esto, deben seguir los siguientes pasos:\n",
        "\n",
        "1. Contar con una cuenta de github (1 por persona)\n",
        "2. Crear un repositorio con su nombre de usuario\n",
        "3. Crear y modificar un archivo `readme.md` con la información que ustedes deseen compartir.\n",
        "\n",
        "A modo de ejemplo, pueden guiarse por esta *suculenta* [presentación](https://github.com/pbadillatorrealba/pbadillatorrealba).\n",
        "\n",
        "*Hint: Una buena opción es usar templates de presentación personal que encuentren en Google, como los que ofrece este [sitio](https://durgeshsamariya.github.io/awesome-github-profile-readme-templates/#/)*.\n",
        "\n",
        "**Entregable:**\n",
        "\n",
        "Enlace al repositorio con la presentación personal. \n",
        "\n",
        "IMPORTANTE: DEBEN ADJUNTAR UN ENLACE POR PERSONA"
      ]
    },
    {
      "cell_type": "markdown",
      "metadata": {
        "id": "IIkWyl9tf0Sg"
      },
      "source": [
        "<code>Link Presentacion 1:</code> https://github.com/EduFaC23\n",
        "\n",
        "<code>Link Presentacion 2:</code> https://github.com/AlvaroMoralesS/Tareas"
      ]
    },
    {
      "cell_type": "markdown",
      "metadata": {
        "id": "CAzXOwvDY-IG"
      },
      "source": [
        "## Parte 3: Trabajando sobre un repositorio externo (2 pts)"
      ]
    },
    {
      "cell_type": "markdown",
      "metadata": {
        "id": "84Yjuxxvdfzh"
      },
      "source": [
        "Tras muchos dolores de cabeza, un grupo de entusiastas académicos decidieron aprender sobre `Git` y así trabajar colaborativamente de forma más ordenada y eficiente. Después de una infinidad de intentos y aprender de sus errores \"*a la mala*\", los académicos lograron levantar un [repositorio](https://github.com/MDS7202/lab1) en `Github`. Usando el repositorio de los académicos, responda las siguientes preguntas (incluya también los comandos en `Git` ocupados):"
      ]
    },
    {
      "cell_type": "markdown",
      "metadata": {
        "id": "BFRnAw0rfguR"
      },
      "source": [
        "1. Clone el repositorio a su ambiente local. (0.25 pts)"
      ]
    },
    {
      "cell_type": "markdown",
      "metadata": {
        "id": "KXro32yBeilN"
      },
      "source": [
        "<code>Escriba sus respuestas acá:</code>\n",
        "\n",
        "El repositorio se clona mediante el comando: `git clone https://github.com/MDS7202/lab1.git`\n",
        "\n",
        "![image.png](attachment:image.png)\n"
      ]
    },
    {
      "cell_type": "markdown",
      "metadata": {
        "id": "q2qmiDyjt2M_"
      },
      "source": [
        "2. Inspeccione brevemente el repositorio: ¿Cual es el objetivo del proyecto? Explique brevemente la estructura del proyecto, asi como también de cada componente que lo conforma. (0.25 pts)"
      ]
    },
    {
      "cell_type": "markdown",
      "metadata": {
        "id": "aBHpR8VTftkT"
      },
      "source": [
        "<code>Escriba sus respuestas acá:</code>\n",
        "\n",
        "La idea es ingresar un tipo de animal y el resultado corresponde a lo que sabe decir dicho animal.\n",
        "\n",
        "La estructura se basa en un `main` que tiene por entrada el `tipo de animal` y llama a la función `animales()`. Esta última consiste en:\n",
        "- si la entrada es \"gato\", la salida es \"miau\"\n",
        "- si la entrada es \"perro\", la salida es \"guau\"\n",
        "- si la entrada es \"fox\", la salida es la ruta de un video en Youtube\n",
        "- en caso que la salida no sea \"fox\", se retorna el mensaje \"animal no reconocido :(\""
      ]
    },
    {
      "cell_type": "markdown",
      "metadata": {
        "id": "XFwqcpLZfylf"
      },
      "source": [
        "3. Identifique los últimos cambios al repositorio, reconociendo las principales ramas de trabajo. ¿Son informativos los `commit` realizados? (0.25 pts)\n",
        "*Hint: Se recomienda usar los argumentos `all`, `graph` y `decorate`*"
      ]
    },
    {
      "cell_type": "markdown",
      "metadata": {
        "id": "cmWfXBkOhog0"
      },
      "source": [
        "<code>Escriba sus respuestas acá:</code>\n",
        "\n",
        "Se considera el comando: `git log --graph --decorate --all`\n",
        "\n",
        "![image.png](attachment:image.png)\n",
        "\n",
        "La rama principal hecha por Sebastián se segmenta en dos ramas: la de Ignacio y la de Pablo. \n",
        "\n",
        "En particular, los `commit` no son del todo informativos. Si bien en las primeras versiones se entiende el cambio realizado, el último `commit` hecho por Pablo Badilla no se logra entender."
      ]
    },
    {
      "cell_type": "markdown",
      "metadata": {
        "id": "Vqbj9HdXrUnN"
      },
      "source": [
        "4. Uno de los académicos se da cuenta que la rama principal de trabajo no se ejecuta correctamente para todos los argumentos. Señale el error en el código e identifique a la persona que lo cometió usando `git blame` (0.25 pts)\n",
        "\n",
        "*Hint: Le puede ser útil esta [documentación](https://www.atlassian.com/es/git/tutorials/inspecting-a-repository/git-blame).*"
      ]
    },
    {
      "cell_type": "markdown",
      "metadata": {
        "id": "5ajhV2Iar3tV"
      },
      "source": [
        "<code>Escriba sus respuestas acá:</code>\n",
        "\n",
        "![image.png](attachment:image.png)\n",
        "\n",
        "El error se encuentra en el archivo `animales.py` donde la función posee un `condicional if` erroneo.\n",
        "La función fue creada por Ignacio Meza."
      ]
    },
    {
      "cell_type": "markdown",
      "metadata": {
        "id": "m8J3uE7MhqTA"
      },
      "source": [
        "5. Busque los siguientes `commit`:\n",
        "\n",
        "- `c8b1a62d7299552b0654f930d695b33109214111`\n",
        "- `362fe21ee44f53ee944cee4ba484600308f83d78`\n",
        "- `25543a3baf77292baf849726784ca005473acab1`\n",
        "\n",
        "¿Qué diferencias existen entre cada uno? (0.25 pts)"
      ]
    },
    {
      "cell_type": "markdown",
      "metadata": {
        "id": "sNHnZsgIitGh"
      },
      "source": [
        "<code>Escriba sus respuestas acá:</code>\n",
        "\n",
        "- La diferencia de `362fe21ee44f53ee944cee4ba484600308f83d78`, respeto a `c8b1a62d7299552b0654f930d695b33109214111` es que se crea el archivo `animales.py` y se traspasa el código de la función animales() desde `main.py` a `animales.py`.\n",
        "\n",
        "![image.png](attachment:image.png)\n",
        "\n",
        "- La diferencia de `25543a3baf77292baf849726784ca005473acab1`, respecto a `362fe21ee44f53ee944cee4ba484600308f83d78` es que la función animales() está corregida, pero no está modularizada. Por tanto, la función proviene directamente desde `main.py`.\n",
        "\n",
        "![image.png](attachment:image-2.png)\n",
        "\n",
        "- La diferencia de `25543a3baf77292baf849726784ca005473acab1`, respecto a `c8b1a62d7299552b0654f930d695b33109214111` es que la función animales() esta corregida (en ambos casos proviene desde `main.py`)."
      ]
    },
    {
      "cell_type": "markdown",
      "metadata": {
        "id": "WQIPbfNCgpxC"
      },
      "source": [
        "6. Realice una `merge` de la rama `fix-ifs` con la rama `main` y describa lo que ocurre. ¿Qué parte del código podría estar ocasionando esto? (0.25 pts)"
      ]
    },
    {
      "cell_type": "markdown",
      "metadata": {
        "id": "ypH_6lL5ioZz"
      },
      "source": [
        "<code>Escriba sus respuestas acá:</code>\n",
        "\n",
        "![image.png](attachment:image.png)\n",
        "\n",
        "Como se observa en la imagen, existe conflicto de unión, puesto que hay líneas de código que han sido modificadas de forma paralela en `main.py`. En este caso, la líneas de código están al principio donde en una versión se declara la función, mientras que en la otra se importa. "
      ]
    },
    {
      "cell_type": "markdown",
      "metadata": {
        "id": "GYfODCjeivkU"
      },
      "source": [
        "7. Cree una rama nueva y proponga una solución al problema anterior, adjuntando el código corregido y señalando las líneas modificadas. (0.5 pts)"
      ]
    },
    {
      "cell_type": "markdown",
      "metadata": {
        "id": "8heBxDU9iziT"
      },
      "source": [
        "<code>Escriba sus respuestas acá:</code>\n",
        "\n",
        "Se genera nueva rama: \n",
        "\n",
        "![image.png](attachment:image.png)\n",
        "\n",
        "Luego se modifica manualmente la función animales() desde `animales.py`. Especificamente se modifica el segundo y tercer condicional `if` por `elif`\n",
        "\n",
        "![image.png](attachment:image-2.png)\n",
        "\n",
        "Finalmente se actualiza versión:\n",
        "\n",
        "![image.png](attachment:image-3.png)\n",
        "\n"
      ]
    },
    {
      "cell_type": "markdown",
      "metadata": {
        "id": "Av8ebB9jkALO"
      },
      "source": [
        "## Fin"
      ]
    },
    {
      "cell_type": "markdown",
      "metadata": {
        "id": "aQqZT9fSkBK8"
      },
      "source": [
        "Eso ha sido todo por ahora!! Esperamos que este laboratorio les haya gustado y servido para trabajar con `Git`. Recuerden los dias de plazo que tienen disponibles y que ante cualquier duda no duden en contactar al equipo docente. \n",
        "\n",
        "Nos vemos!! \n",
        "\n",
        "<img src=https://media.tenor.com/OYLdav9k9LkAAAAd/kitty-cat.gif height=300>\n"
      ]
    }
  ],
  "metadata": {
    "colab": {
      "provenance": []
    },
    "kernelspec": {
      "display_name": "Python 3",
      "name": "python3"
    },
    "language_info": {
      "name": "python"
    }
  },
  "nbformat": 4,
  "nbformat_minor": 0
}